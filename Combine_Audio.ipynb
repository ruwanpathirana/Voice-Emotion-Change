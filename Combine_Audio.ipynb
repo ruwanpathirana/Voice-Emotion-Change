{
  "nbformat": 4,
  "nbformat_minor": 0,
  "metadata": {
    "colab": {
      "provenance": []
    },
    "kernelspec": {
      "name": "python3",
      "display_name": "Python 3"
    },
    "language_info": {
      "name": "python"
    }
  },
  "cells": [
    {
      "cell_type": "code",
      "source": [
        "!pip install pydub"
      ],
      "metadata": {
        "colab": {
          "base_uri": "https://localhost:8080/"
        },
        "id": "hciwR2KJxdX1",
        "outputId": "3d94af08-7986-44f1-9801-d6df1d4be0b0"
      },
      "execution_count": 2,
      "outputs": [
        {
          "output_type": "stream",
          "name": "stdout",
          "text": [
            "Collecting pydub\n",
            "  Downloading pydub-0.25.1-py2.py3-none-any.whl (32 kB)\n",
            "Installing collected packages: pydub\n",
            "Successfully installed pydub-0.25.1\n"
          ]
        }
      ]
    },
    {
      "cell_type": "code",
      "source": [
        "from pydub import AudioSegment\n",
        "import os\n",
        "from google.colab import drive"
      ],
      "metadata": {
        "id": "Dxa6hh7BxhI_"
      },
      "execution_count": 23,
      "outputs": []
    },
    {
      "cell_type": "code",
      "source": [
        "# Mount Google Drive\n",
        "drive.mount('/content/drive')"
      ],
      "metadata": {
        "colab": {
          "base_uri": "https://localhost:8080/"
        },
        "id": "Ab4K6FrRxuSU",
        "outputId": "f1e0ed1a-1472-42a8-813b-37b1e1e437d4"
      },
      "execution_count": 24,
      "outputs": [
        {
          "output_type": "stream",
          "name": "stdout",
          "text": [
            "Drive already mounted at /content/drive; to attempt to forcibly remount, call drive.mount(\"/content/drive\", force_remount=True).\n"
          ]
        }
      ]
    },
    {
      "cell_type": "code",
      "source": [
        "# Define the Folders\n",
        "\n",
        "drive_path = \"/content/drive/My Drive/Research/A1/TESS\"\n",
        "folders = [\"OAF_Pleasant_surprise\", \"OAF_Sad\"]\n",
        "output_folder = \"Combined\""
      ],
      "metadata": {
        "id": "lt1RuxMoyBb9"
      },
      "execution_count": 26,
      "outputs": []
    },
    {
      "cell_type": "code",
      "source": [
        "# Define the output Folder\n",
        "output_folder_path = os.path.join(drive_path, output_folder)"
      ],
      "metadata": {
        "id": "fDRGIavL0DZT"
      },
      "execution_count": 27,
      "outputs": []
    },
    {
      "cell_type": "code",
      "source": [
        "# Get a list of audio files in each folder, sorted alphabetically\n",
        "audio_files = {}\n",
        "for folder in folders:\n",
        "    audio_files[folder] = sorted(os.listdir(os.path.join(drive_path, folder)))"
      ],
      "metadata": {
        "id": "xfpYGydSGbcm"
      },
      "execution_count": 28,
      "outputs": []
    },
    {
      "cell_type": "code",
      "source": [
        "# Ensure both folders have the same number of audio files\n",
        "num_files = min(len(audio_files[folders[0]]), len(audio_files[folders[1]]))\n",
        "print(num_files)"
      ],
      "metadata": {
        "colab": {
          "base_uri": "https://localhost:8080/"
        },
        "id": "kfluHpfYGbhP",
        "outputId": "7a44e36d-5d6c-441e-cc9c-ebb0ebf73001"
      },
      "execution_count": 29,
      "outputs": [
        {
          "output_type": "stream",
          "name": "stdout",
          "text": [
            "20\n"
          ]
        }
      ]
    },
    {
      "cell_type": "code",
      "source": [
        "#Combine them based on alphabetical order\n",
        "for i in range(num_files):\n",
        "    combined_audio = AudioSegment.silent(duration=0)  # Initialize an empty audio segment\n",
        "\n",
        "    for folder in folders:\n",
        "        audio_file_path = os.path.join(drive_path, folder, audio_files[folder][i])\n",
        "        audio_segment = AudioSegment.from_file(audio_file_path)\n",
        "        combined_audio += audio_segment  # Combine audio segments\n",
        "\n",
        "    # Export the combined audio to the output folder on Google Drive\n",
        "    output_file_path = os.path.join(output_folder_path, f\"combined_{i}.wav\")\n",
        "    combined_audio.export(output_file_path, format=\"wav\")\n",
        "\n",
        "print(\"Audio files have been combined and saved on Google Drive.\")"
      ],
      "metadata": {
        "colab": {
          "base_uri": "https://localhost:8080/"
        },
        "id": "tLyz_LWOGbkl",
        "outputId": "c1632c7b-eb80-46e8-afb5-ab03cc80bff8"
      },
      "execution_count": 30,
      "outputs": [
        {
          "output_type": "stream",
          "name": "stdout",
          "text": [
            "Audio files have been combined and saved in the 'Combined' folder on Google Drive.\n"
          ]
        }
      ]
    },
    {
      "cell_type": "code",
      "source": [],
      "metadata": {
        "id": "AduQZAftGbmr"
      },
      "execution_count": null,
      "outputs": []
    },
    {
      "cell_type": "code",
      "source": [],
      "metadata": {
        "id": "BymTfzAZGbpl"
      },
      "execution_count": null,
      "outputs": []
    },
    {
      "cell_type": "code",
      "source": [],
      "metadata": {
        "id": "RUhDDoIsGbr3"
      },
      "execution_count": null,
      "outputs": []
    }
  ]
}